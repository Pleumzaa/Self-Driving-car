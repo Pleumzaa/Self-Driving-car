{
 "cells": [
  {
   "cell_type": "code",
   "execution_count": 23,
   "metadata": {},
   "outputs": [
    {
     "name": "stdout",
     "output_type": "stream",
     "text": [
      "serial exception on close WriteFile failed (PermissionError(13, 'Access is denied.', None, 5))\n",
      "\u001b[34mConnecting to --port=COM8 --baud=115200 \u001b[0m\n",
      "\u001b[34m\n",
      "Ready.\n",
      "\u001b[0m"
     ]
    }
   ],
   "source": [
    "%serialconnect --port=COM8 --baudrate=115200"
   ]
  },
  {
   "cell_type": "code",
   "execution_count": 24,
   "metadata": {},
   "outputs": [],
   "source": [
    "from machine import I2C\n",
    "import time"
   ]
  },
  {
   "cell_type": "code",
   "execution_count": 25,
   "metadata": {},
   "outputs": [],
   "source": [
    "i2c = I2C(I2C.I2C0, freq=100000, scl=35, sda=34)"
   ]
  },
  {
   "cell_type": "code",
   "execution_count": 33,
   "metadata": {},
   "outputs": [],
   "source": [
    "i2c.writeto(0x12,bytes([int(128),int(50),int(0)]))"
   ]
  },
  {
   "cell_type": "code",
   "execution_count": null,
   "metadata": {},
   "outputs": [],
   "source": []
  },
  {
   "cell_type": "code",
   "execution_count": 32,
   "metadata": {},
   "outputs": [],
   "source": [
    "i2c.writeto(0x12,bytes([int(128),int(200),int(0)]))"
   ]
  },
  {
   "cell_type": "code",
   "execution_count": 29,
   "metadata": {},
   "outputs": [],
   "source": [
    "i2c.writeto(0x12,bytes([int(228),int(128),int(0)]))"
   ]
  },
  {
   "cell_type": "code",
   "execution_count": 30,
   "metadata": {},
   "outputs": [],
   "source": [
    "i2c.writeto(0x12,bytes([int(28),int(128),int(0)]))"
   ]
  },
  {
   "cell_type": "code",
   "execution_count": 19,
   "metadata": {},
   "outputs": [
    {
     "name": "stdout",
     "output_type": "stream",
     "text": [
      "b'\\x00\\x1c'\n"
     ]
    }
   ],
   "source": [
    "import struct\n",
    "tong = struct.pack(\">H\", 28)\n",
    "print(tong)\n",
    "i2c.writeto(0x12,tong)"
   ]
  },
  {
   "cell_type": "code",
   "execution_count": 12,
   "metadata": {},
   "outputs": [
    {
     "name": "stdout",
     "output_type": "stream",
     "text": [
      "b'\\x80\\x80\\x00'\n"
     ]
    }
   ],
   "source": [
    "data = i2c.readfrom(0x12, 3)\n",
    "print(data)"
   ]
  },
  {
   "cell_type": "code",
   "execution_count": 34,
   "metadata": {},
   "outputs": [
    {
     "name": "stdout",
     "output_type": "stream",
     "text": [
      "b'\\x80\\x80\\x00'\n",
      "b'\\x80\\x80\\x00'\n",
      "b'\\x80\\x80\\x00'\n",
      "b'\\x80\\x80\\x04'\n",
      "b'\\x80\\x80\\x04'\n",
      "b'\\x80\\xe4\\x00'\n",
      "b'\\x80\\xe4\\x00'\n",
      "b'\\x80<\\x00'\n",
      "b'\\x80=\\x00'\n",
      "b'\\x80\\x80\\x00'\n",
      "b'\\xcf\\x80\\x00'\n",
      "b'\\xd5\\x80\\x00'\n",
      "b'A\\x80\\x00'\n",
      "b';\\x80\\x00'\n",
      "b':\\x80\\x00'\n",
      "b'\\x80\\x80\\x00'\n",
      "b'\\x80\\x80\\x00'\n",
      "b'\\x80\\x80\\x00'\n",
      "b'\\x80\\x80\\x00'\n",
      "b'\\x80\\x80\\x00'\n",
      "\u001b[34m\n",
      "\n",
      "*** Sending Ctrl-C\n",
      "\n",
      "\u001b[0m'\\x80\\x80\\x00'\n"
     ]
    },
    {
     "name": "stderr",
     "output_type": "stream",
     "text": [
      "Traceback (most recent call last):\n",
      "  File \"<stdin>\", line 4, in <module>\n",
      "KeyboardInterrupt: \n"
     ]
    }
   ],
   "source": [
    "while 1 :\n",
    "    data = i2c.readfrom(0x12, 3)\n",
    "    print(data)\n",
    "    time.sleep(1)"
   ]
  },
  {
   "cell_type": "code",
   "execution_count": 35,
   "metadata": {},
   "outputs": [],
   "source": [
    "import uos"
   ]
  },
  {
   "cell_type": "code",
   "execution_count": 36,
   "metadata": {},
   "outputs": [
    {
     "name": "stdout",
     "output_type": "stream",
     "text": [
      "['flash', 'sd']\n"
     ]
    }
   ],
   "source": [
    "print(uos.listdir(\"/\"))"
   ]
  },
  {
   "cell_type": "code",
   "execution_count": null,
   "metadata": {},
   "outputs": [],
   "source": []
  }
 ],
 "metadata": {
  "kernelspec": {
   "display_name": "MicroPython/ESP32 - USB",
   "language": "python",
   "name": "micropython"
  },
  "language_info": {
   "codemirror_mode": "python",
   "file_extension": ".py",
   "mimetype": "text/python",
   "name": "micropython"
  }
 },
 "nbformat": 4,
 "nbformat_minor": 4
}
